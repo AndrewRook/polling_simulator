{
 "cells": [
  {
   "cell_type": "code",
   "execution_count": 1,
   "metadata": {},
   "outputs": [],
   "source": [
    "import numpy as np\n",
    "import matplotlib.pyplot as plt\n",
    "import seaborn as sns\n",
    "\n",
    "from functools import partial\n",
    "\n",
    "from polling_simulator import Demographic, Variable, generate_electorate, run_elections, run_polls\n",
    "from polling_simulator.aggregation import naive_aggregation, stratified_aggregation, weight_by_self_reported_turnout\n",
    "from polling_simulator.core import Segmentation\n",
    "from polling_simulator.distributions import truncated_gaussian_distribution\n",
    "from polling_simulator.sampling import predefined_sample\n",
    "\n",
    "original_palette = sns.color_palette()\n",
    "modified_palette = [original_palette[0], original_palette[3]]\n",
    "sns.set_palette(modified_palette)"
   ]
  },
  {
   "cell_type": "markdown",
   "metadata": {},
   "source": [
    "Now, what happens when we don't have perfect insights into all the different ways people's voting preferences are determined? Polling becomes a lot harder. To demonstrate, we'll keep the original age distribution but add another variable, educational attainment, that we don't control for in our poll."
   ]
  },
  {
   "cell_type": "code",
   "execution_count": 5,
   "metadata": {},
   "outputs": [],
   "source": [
    "age = Variable(\"age\", truncated_gaussian_distribution(18, 35, 18, 110))\n",
    "education = Variable(\"education\", partial(\n",
    "    np.random.choice, np.array([\"High School\", \"College\", \"Post-College\"]), replace=True, p=np.array([0.4, 0.4, 0.2])\n",
    "))"
   ]
  },
  {
   "cell_type": "code",
   "execution_count": 7,
   "metadata": {},
   "outputs": [],
   "source": [
    "from dataclasses import dataclass\n",
    "from itertools import product\n",
    "\n",
    "@dataclass\n",
    "class Parameterization:\n",
    "    segment: Segmentation\n",
    "    republican_modifier: float\n",
    "    turnout_modifier: float = 1\n",
    "    response_modifier: float = 1\n",
    "\n",
    "age_parameterization = [\n",
    "    Parameterization(age < 30, 0.5),\n",
    "    Parameterization((age >= 30) & (age < 50), 1.0),\n",
    "    Parameterization((age >= 50) & (age < 65), 1.5),\n",
    "    Parameterization(age >= 65, 2)\n",
    "]\n",
    "education_parameterization = [\n",
    "    Parameterization(education == \"High School\", 2),\n",
    "    Parameterization(education == \"College\", 1),\n",
    "    Parameterization(education == \"Post-College\", 0.5)\n",
    "]\n",
    "\n",
    "default_turnout_likelihood = 0.5\n",
    "default_response_likelihood = 0.5\n",
    "default_republican_likelihood = 0.5\n",
    "actual_demographics = []\n",
    "for age_parameters, education_parameters in product(age_parameterization, education_parameterization):\n",
    "    turnout_likelihood = (\n",
    "        default_turnout_likelihood * age_parameters.turnout_modifier * education_parameters.turnout_modifier\n",
    "    )\n",
    "    response_likelihood = (\n",
    "        default_response_likelihood * age_parameters.response_modifier * education_parameters.response_modifier\n",
    "    )\n",
    "    republican_likelihood = (\n",
    "        default_republican_likelihood * age_parameters.republican_modifier * education_parameters.republican_modifier\n",
    "    )\n",
    "    turnout_likelihood = 1 if turnout_likelihood > 1 else turnout_likelihood\n",
    "    response_likelihood = 1 if response_likelihood > 1 else response_likelihood\n",
    "    republican_likelihood = 1 if republican_likelihood > 1 else republican_likelihood\n",
    "    democrat_likelihood = 1 - republican_likelihood\n",
    "    actual_demographics.append(\n",
    "        Demographic(\n",
    "            turnout_likelihood=turnout_likelihood,\n",
    "            response_likelihood=response_likelihood,\n",
    "            candidate_preference={\"Rep\": republican_likelihood, \"Dem\": democrat_likelihood},\n",
    "            population_segmentation=age_parameters.segment & education_parameters.segment\n",
    "        )\n",
    "    )\n",
    "    #print(age_parameters, education_parameters)"
   ]
  },
  {
   "cell_type": "code",
   "execution_count": 8,
   "metadata": {},
   "outputs": [
    {
     "data": {
      "text/plain": [
       "'<built-in function gt>'"
      ]
     },
     "execution_count": 8,
     "metadata": {},
     "output_type": "execute_result"
    }
   ],
   "source": [
    "import operator\n",
    "str(operator.gt)"
   ]
  },
  {
   "cell_type": "code",
   "execution_count": null,
   "metadata": {},
   "outputs": [],
   "source": [
    "age_lt_30 = Demographic(\n",
    "    turnout_likelihood=0.7,\n",
    "    response_likelihood=0.3,\n",
    "    candidate_preference={\"Rep\": 0.2, \"Dem\": 0.8},\n",
    "    population_segmentation=(age < 30)\n",
    ")\n",
    "age_between_30_50 = Demographic(\n",
    "    turnout_likelihood=0.7,\n",
    "    response_likelihood=0.5,\n",
    "    candidate_preference={\"Rep\": 0.4, \"Dem\": 0.6},\n",
    "    population_segmentation=(age >= 30) & (age < 50)\n",
    ")\n",
    "age_between_50_65 = Demographic(\n",
    "    turnout_likelihood=0.7,\n",
    "    response_likelihood=0.7,\n",
    "    candidate_preference={\"Rep\": 0.6, \"Dem\": 0.4},\n",
    "    population_segmentation=(age >= 50) & (age < 65)\n",
    ")\n",
    "age_ge_65 = Demographic(\n",
    "    turnout_likelihood=0.7,\n",
    "    response_likelihood=0.9,\n",
    "    candidate_preference={\"Rep\": 0.75, \"Dem\": 0.25},\n",
    "    population_segmentation=(age >= 65)\n",
    ")\n",
    "demographics = [age_lt_30, age_between_30_50, age_between_50_65, age_ge_65]"
   ]
  },
  {
   "cell_type": "code",
   "execution_count": null,
   "metadata": {},
   "outputs": [],
   "source": [
    "np.random.seed(123)\n",
    "electorate = generate_electorate(1000000, demographics)"
   ]
  },
  {
   "cell_type": "code",
   "execution_count": null,
   "metadata": {},
   "outputs": [],
   "source": [
    "demographic_size = [\n",
    "    demographic.population_segmentation.segment(electorate).sum() / len(electorate)\n",
    "    for demographic in demographics\n",
    "]\n",
    "demographic_size"
   ]
  },
  {
   "cell_type": "code",
   "execution_count": null,
   "metadata": {},
   "outputs": [],
   "source": [
    "simulated_elections = run_elections(500, electorate)\n",
    "simulated_elections[\"total_votes\"] = simulated_elections.sum(axis=1)\n",
    "simulated_elections[\"dem_voteshare\"] = simulated_elections[\"Dem\"] / simulated_elections[\"total_votes\"]\n",
    "simulated_elections[\"rep_voteshare\"] = simulated_elections[\"Rep\"] / simulated_elections[\"total_votes\"]"
   ]
  },
  {
   "cell_type": "code",
   "execution_count": null,
   "metadata": {},
   "outputs": [],
   "source": [
    "fig, ax = plt.subplots(figsize=(12, 6))\n",
    "sns.histplot(\n",
    "    simulated_elections[[\"dem_voteshare\", \"rep_voteshare\"]], element=\"step\", bins=100, ax=ax, alpha=0.75\n",
    ")\n",
    "ax.set_xlabel(\"Vote Share\")\n",
    "ax.set_ylabel(\"Number of Simulations\")\n",
    "ax.set_xlim([0.4, 0.6])"
   ]
  },
  {
   "cell_type": "code",
   "execution_count": null,
   "metadata": {},
   "outputs": [],
   "source": [
    "# This cell may take ~10 minutes\n",
    "naive_poll_results = run_polls(\n",
    "    num_polls=500,\n",
    "    num_to_poll=1000,\n",
    "    electorate=electorate,\n",
    "    assumed_demographics=demographics,\n",
    "    sampling_strategy=predefined_sample(max_num_attempts=1, screen_likely_voters=False),\n",
    "    aggregation_strategy=naive_aggregation()\n",
    ")"
   ]
  },
  {
   "cell_type": "code",
   "execution_count": null,
   "metadata": {},
   "outputs": [],
   "source": [
    "fig, ax = plt.subplots(figsize=(12, 6))\n",
    "sns.histplot(\n",
    "    naive_poll_results[[\"Dem\", \"Rep\"]], element=\"step\", bins=50, ax=ax, alpha=0.75\n",
    ")\n",
    "ax.set_xlabel(\"Vote Share\")\n",
    "ax.set_ylabel(\"Number of Simulations\")\n",
    "ax.set_xlim([0.40, 0.60])"
   ]
  },
  {
   "cell_type": "code",
   "execution_count": null,
   "metadata": {},
   "outputs": [],
   "source": [
    "# This cell may take ~10 minutes\n",
    "stratified_poll_results = run_polls(\n",
    "    num_polls=500,\n",
    "    num_to_poll=1000,\n",
    "    electorate=electorate,\n",
    "    assumed_demographics=demographics,\n",
    "    sampling_strategy=predefined_sample(max_num_attempts=1, screen_likely_voters=False),\n",
    "    aggregation_strategy=stratified_aggregation(demographics, demographic_size)\n",
    ")"
   ]
  },
  {
   "cell_type": "code",
   "execution_count": null,
   "metadata": {},
   "outputs": [],
   "source": [
    "fig, ax = plt.subplots(figsize=(12, 6))\n",
    "sns.histplot(\n",
    "    stratified_poll_results[[\"Dem\", \"Rep\"]], element=\"step\", bins=50, ax=ax, alpha=0.75\n",
    ")\n",
    "ax.set_xlabel(\"Vote Share\")\n",
    "ax.set_ylabel(\"Number of Simulations\")\n",
    "ax.set_xlim([0.40, 0.60])"
   ]
  },
  {
   "cell_type": "code",
   "execution_count": null,
   "metadata": {},
   "outputs": [],
   "source": []
  }
 ],
 "metadata": {
  "kernelspec": {
   "display_name": "Python 3",
   "language": "python",
   "name": "python3"
  },
  "language_info": {
   "codemirror_mode": {
    "name": "ipython",
    "version": 3
   },
   "file_extension": ".py",
   "mimetype": "text/x-python",
   "name": "python",
   "nbconvert_exporter": "python",
   "pygments_lexer": "ipython3",
   "version": "3.8.6"
  }
 },
 "nbformat": 4,
 "nbformat_minor": 4
}
