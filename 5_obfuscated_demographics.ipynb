{
 "cells": [
  {
   "cell_type": "code",
   "execution_count": 1,
   "metadata": {},
   "outputs": [],
   "source": [
    "import numpy as np\n",
    "import matplotlib.pyplot as plt\n",
    "import seaborn as sns\n",
    "\n",
    "from dataclasses import dataclass\n",
    "from functools import partial, reduce\n",
    "from itertools import product\n",
    "\n",
    "from polling_simulator import Demographic, Variable, generate_electorate, run_elections, run_polls\n",
    "from polling_simulator.aggregation import naive_aggregation, stratified_aggregation, weight_by_self_reported_turnout\n",
    "from polling_simulator.core import Segmentation\n",
    "from polling_simulator.distributions import truncated_gaussian_distribution\n",
    "from polling_simulator.sampling import predefined_sample, guaranteed_sample\n",
    "\n",
    "original_palette = sns.color_palette()\n",
    "modified_palette = [original_palette[0], original_palette[3]]\n",
    "sns.set_palette(modified_palette)"
   ]
  },
  {
   "cell_type": "markdown",
   "metadata": {},
   "source": [
    "Now, what happens when we don't have perfect insights into all the different ways people's voting preferences are determined? Polling becomes a lot harder. To demonstrate, we'll keep the original age distribution but add another variable, educational attainment, that we don't control for in our poll."
   ]
  },
  {
   "cell_type": "code",
   "execution_count": 2,
   "metadata": {},
   "outputs": [],
   "source": [
    "age = Variable(\"age\", truncated_gaussian_distribution(18, 35, 18, 110))\n",
    "education = Variable(\"education\", partial(\n",
    "    np.random.choice, np.array([\"High School\", \"College\", \"Post-College\"]), replace=True, p=np.array([0.4, 0.4, 0.2])\n",
    "))"
   ]
  },
  {
   "cell_type": "code",
   "execution_count": 3,
   "metadata": {},
   "outputs": [],
   "source": [
    "@dataclass\n",
    "class Parameterization:\n",
    "    segment: Segmentation\n",
    "    republican_modifier: float\n",
    "    turnout_modifier: float = 1\n",
    "    response_modifier: float = 1\n",
    "\n",
    "age_parameterization = [\n",
    "    Parameterization(age < 30, 0.5),\n",
    "    Parameterization((age >= 30) & (age < 50), 0.9),\n",
    "    Parameterization((age >= 50) & (age < 65), 1.2),\n",
    "    Parameterization(age >= 65, 1.5)\n",
    "]\n",
    "education_parameterization = [\n",
    "    Parameterization(education == \"High School\", 1.5, response_modifier=0.2),\n",
    "    Parameterization(education == \"College\", 1),\n",
    "    Parameterization(education == \"Post-College\", 0.5)\n",
    "]\n",
    "def generate_demographics(\n",
    "    default_turnout_likelihood, default_response_likelihood, default_republican_likelihood, *parameterizations\n",
    "):\n",
    "    demographics = []\n",
    "    for param_combo in product(*parameterizations):\n",
    "        turnout_likelihood = default_turnout_likelihood * reduce(\n",
    "            lambda x, y: x * y,\n",
    "            [param.turnout_modifier for param in param_combo]\n",
    "        )\n",
    "        response_likelihood = default_response_likelihood * reduce(\n",
    "            lambda x, y: x * y,\n",
    "            [param.response_modifier for param in param_combo]\n",
    "        )\n",
    "        republican_likelihood = default_republican_likelihood * reduce(\n",
    "            lambda x, y: x * y,\n",
    "            [param.republican_modifier for param in param_combo]\n",
    "        )\n",
    "        turnout_likelihood = 1 if turnout_likelihood > 1 else turnout_likelihood\n",
    "        response_likelihood = 1 if response_likelihood > 1 else response_likelihood\n",
    "        republican_likelihood = 1 if republican_likelihood > 1 else republican_likelihood\n",
    "        democrat_likelihood = 1 - republican_likelihood\n",
    "        demographics.append(\n",
    "            Demographic(\n",
    "                turnout_likelihood=turnout_likelihood,\n",
    "                response_likelihood=response_likelihood,\n",
    "                candidate_preference={\"Republican\": republican_likelihood, \"Democrat\": democrat_likelihood},\n",
    "                population_segmentation=reduce(lambda x, y: x & y, [param.segment for param in param_combo])\n",
    "            )\n",
    "        )\n",
    "    return demographics\n",
    "    \n",
    "actual_demographics = generate_demographics(\n",
    "    0.5, 0.5, 0.5,\n",
    "    age_parameterization, education_parameterization\n",
    ")\n",
    "assumed_demographics = generate_demographics(\n",
    "    0.5, 0.5, 0.5,\n",
    "    age_parameterization\n",
    ")"
   ]
  },
  {
   "cell_type": "code",
   "execution_count": 4,
   "metadata": {},
   "outputs": [
    {
     "name": "stdout",
     "output_type": "stream",
     "text": [
      "Actual Demographics:\n",
      "                                                Segmentation | Turnout | Response |  Democrat |  Republican\n",
      "                     (age < 30) & (education == High School) |    0.50 |     0.10 |       62% |         38%\n",
      "                         (age < 30) & (education == College) |    0.50 |     0.50 |       75% |         25%\n",
      "                    (age < 30) & (education == Post-College) |    0.50 |     0.50 |       88% |         12%\n",
      "     ((age >= 30) & (age < 50)) & (education == High School) |    0.50 |     0.10 |       32% |         68%\n",
      "         ((age >= 30) & (age < 50)) & (education == College) |    0.50 |     0.50 |       55% |         45%\n",
      "    ((age >= 30) & (age < 50)) & (education == Post-College) |    0.50 |     0.50 |       78% |         22%\n",
      "     ((age >= 50) & (age < 65)) & (education == High School) |    0.50 |     0.10 |       10% |         90%\n",
      "         ((age >= 50) & (age < 65)) & (education == College) |    0.50 |     0.50 |       40% |         60%\n",
      "    ((age >= 50) & (age < 65)) & (education == Post-College) |    0.50 |     0.50 |       70% |         30%\n",
      "                    (age >= 65) & (education == High School) |    0.50 |     0.10 |        0% |        100%\n",
      "                        (age >= 65) & (education == College) |    0.50 |     0.50 |       25% |         75%\n",
      "                   (age >= 65) & (education == Post-College) |    0.50 |     0.50 |       62% |         38%\n",
      "\n",
      "Assumed Demographics\n",
      "                                                Segmentation | Turnout | Response |  Democrat |  Republican\n",
      "                                                    age < 30 |    0.50 |     0.50 |       75% |         25%\n",
      "                                    (age >= 30) & (age < 50) |    0.50 |     0.50 |       55% |         45%\n",
      "                                    (age >= 50) & (age < 65) |    0.50 |     0.50 |       40% |         60%\n",
      "                                                   age >= 65 |    0.50 |     0.50 |       25% |         75%\n"
     ]
    }
   ],
   "source": [
    "def print_demographics(demographics):\n",
    "    print(f\"{'Segmentation':>60} | Turnout | Response |  Democrat |  Republican\")\n",
    "    for demographic in demographics:\n",
    "        segmentation_string = str(demographic.population_segmentation)\n",
    "        republican_likelihood = demographic.candidate_preference[\"Democrat\"]\n",
    "        democrat_likelihood = demographic.candidate_preference[\"Republican\"]\n",
    "        print(\n",
    "            f\"{segmentation_string:>60} | \"\n",
    "            f\"{demographic.turnout_likelihood:7.2f} | \"\n",
    "            f\"{demographic.response_likelihood:8.2f} | \"\n",
    "            f\"{republican_likelihood:9.0%} | \"\n",
    "            f\"{democrat_likelihood:11.0%}\"\n",
    "        )\n",
    "print(\"Actual Demographics:\")\n",
    "print_demographics(actual_demographics)\n",
    "print()\n",
    "print(\"Assumed Demographics\")\n",
    "print_demographics(assumed_demographics)"
   ]
  },
  {
   "cell_type": "code",
   "execution_count": 5,
   "metadata": {},
   "outputs": [],
   "source": [
    "np.random.seed(123)\n",
    "electorate = generate_electorate(1000000, actual_demographics)"
   ]
  },
  {
   "cell_type": "code",
   "execution_count": 6,
   "metadata": {},
   "outputs": [
    {
     "data": {
      "text/plain": [
       "([0.108176,\n",
       "  0.108268,\n",
       "  0.054245,\n",
       "  0.149802,\n",
       "  0.149472,\n",
       "  0.075049,\n",
       "  0.073027,\n",
       "  0.07374,\n",
       "  0.036226,\n",
       "  0.068659,\n",
       "  0.06878,\n",
       "  0.034556],\n",
       " [0.270689, 0.374323, 0.182993, 0.171995])"
      ]
     },
     "execution_count": 6,
     "metadata": {},
     "output_type": "execute_result"
    }
   ],
   "source": [
    "actual_demographic_fractions = [\n",
    "    demographic.population_segmentation.segment(electorate).sum() / len(electorate)\n",
    "    for demographic in actual_demographics\n",
    "]\n",
    "assumed_demographic_fractions = [\n",
    "    demographic.population_segmentation.segment(electorate).sum() / len(electorate)\n",
    "    for demographic in assumed_demographics\n",
    "]\n",
    "actual_demographic_fractions, assumed_demographic_fractions"
   ]
  },
  {
   "cell_type": "code",
   "execution_count": 7,
   "metadata": {},
   "outputs": [],
   "source": [
    "simulated_elections = run_elections(500, electorate)\n",
    "simulated_elections[\"total_votes\"] = simulated_elections.sum(axis=1)\n",
    "simulated_elections[\"Democrat\"] = simulated_elections[\"Democrat\"] / simulated_elections[\"total_votes\"]\n",
    "simulated_elections[\"Republican\"] = simulated_elections[\"Republican\"] / simulated_elections[\"total_votes\"]"
   ]
  },
  {
   "cell_type": "code",
   "execution_count": 8,
   "metadata": {},
   "outputs": [
    {
     "data": {
      "text/plain": [
       "(0.4, 0.6)"
      ]
     },
     "execution_count": 8,
     "metadata": {},
     "output_type": "execute_result"
    },
    {
     "data": {
      "image/png": "[encoded data removed]",
      "text/plain": [
       "<Figure size 864x432 with 1 Axes>"
      ]
     },
     "metadata": {
      "needs_background": "light"
     },
     "output_type": "display_data"
    }
   ],
   "source": [
    "fig, ax = plt.subplots(figsize=(12, 6))\n",
    "sns.histplot(\n",
    "    simulated_elections[[\"Democrat\", \"Republican\"]], element=\"step\", bins=100, ax=ax, alpha=0.75\n",
    ")\n",
    "ax.set_xlabel(\"Vote Share\")\n",
    "ax.set_ylabel(\"Number of Simulations\")\n",
    "ax.set_xlim([0.4, 0.6])"
   ]
  },
  {
   "cell_type": "code",
   "execution_count": 9,
   "metadata": {},
   "outputs": [],
   "source": [
    "# This cell may take ~10 minutes\n",
    "naive_poll_results = run_polls(\n",
    "    num_polls=500,\n",
    "    num_to_poll=1000,\n",
    "    electorate=electorate,\n",
    "    sampling_strategy=predefined_sample(max_num_attempts=1, screen_likely_voters=False),\n",
    "    aggregation_strategy=naive_aggregation()\n",
    ")"
   ]
  },
  {
   "cell_type": "code",
   "execution_count": 10,
   "metadata": {},
   "outputs": [
    {
     "data": {
      "image/png": "[encoded data removed]",
      "text/plain": [
       "<Figure size 864x432 with 1 Axes>"
      ]
     },
     "metadata": {
      "needs_background": "light"
     },
     "output_type": "display_data"
    }
   ],
   "source": [
    "fig, ax = plt.subplots(figsize=(12, 6))\n",
    "sns.histplot(\n",
    "    naive_poll_results[[\"Democrat\", \"Republican\"]], element=\"step\", bins=50, ax=ax, alpha=0.75\n",
    ")\n",
    "ax.set_xlabel(\"Vote Share\")\n",
    "ax.set_ylabel(\"Number of Simulations\")\n",
    "ax.set_xlim([0.40, 0.60])\n",
    "ax.get_legend().set_title(\"\")"
   ]
  },
  {
   "cell_type": "code",
   "execution_count": 11,
   "metadata": {},
   "outputs": [],
   "source": [
    "# This cell may take ~10 minutes\n",
    "stratified_poll_results = run_polls(\n",
    "    num_polls=500,\n",
    "    num_to_poll=1000,\n",
    "    electorate=electorate,\n",
    "    sampling_strategy=guaranteed_sample(max_num_attempts=1, screen_likely_voters=False),\n",
    "    aggregation_strategy=stratified_aggregation(assumed_demographics, assumed_demographic_fractions)\n",
    ")"
   ]
  },
  {
   "cell_type": "code",
   "execution_count": 12,
   "metadata": {},
   "outputs": [
    {
     "data": {
      "image/png": "[encoded data removed]",
      "text/plain": [
       "<Figure size 864x432 with 1 Axes>"
      ]
     },
     "metadata": {
      "needs_background": "light"
     },
     "output_type": "display_data"
    }
   ],
   "source": [
    "fig, ax = plt.subplots(figsize=(12, 6))\n",
    "sns.histplot(\n",
    "    stratified_poll_results[[\"Democrat\", \"Republican\"]], element=\"step\", bins=50, ax=ax, alpha=0.75\n",
    ")\n",
    "ax.set_xlabel(\"Vote Share\")\n",
    "ax.set_ylabel(\"Number of Simulations\")\n",
    "ax.set_xlim([0.40, 0.60])\n",
    "ax.get_legend().set_title(\"\")"
   ]
  },
  {
   "cell_type": "code",
   "execution_count": 13,
   "metadata": {},
   "outputs": [],
   "source": [
    "# This cell may take ~10 minutes\n",
    "actual_stratified_poll_results = run_polls(\n",
    "    num_polls=500,\n",
    "    num_to_poll=1000,\n",
    "    electorate=electorate,\n",
    "    sampling_strategy=guaranteed_sample(max_num_attempts=1, screen_likely_voters=False),\n",
    "    aggregation_strategy=stratified_aggregation(actual_demographics, actual_demographic_fractions)\n",
    ")"
   ]
  },
  {
   "cell_type": "code",
   "execution_count": 14,
   "metadata": {},
   "outputs": [
    {
     "data": {
      "image/png": "[encoded data removed]",
      "text/plain": [
       "<Figure size 864x432 with 1 Axes>"
      ]
     },
     "metadata": {
      "needs_background": "light"
     },
     "output_type": "display_data"
    }
   ],
   "source": [
    "fig, ax = plt.subplots(figsize=(12, 6))\n",
    "sns.histplot(\n",
    "    actual_stratified_poll_results[[\"Democrat\", \"Republican\"]], element=\"step\", bins=50, ax=ax, alpha=0.75\n",
    ")\n",
    "ax.set_xlabel(\"Vote Share\")\n",
    "ax.set_ylabel(\"Number of Simulations\")\n",
    "ax.set_xlim([0.40, 0.60])\n",
    "ax.get_legend().set_title(\"\")"
   ]
  },
  {
   "cell_type": "code",
   "execution_count": null,
   "metadata": {},
   "outputs": [],
   "source": []
  }
 ],
 "metadata": {
  "kernelspec": {
   "display_name": "Python 3",
   "language": "python",
   "name": "python3"
  },
  "language_info": {
   "codemirror_mode": {
    "name": "ipython",
    "version": 3
   },
   "file_extension": ".py",
   "mimetype": "text/x-python",
   "name": "python",
   "nbconvert_exporter": "python",
   "pygments_lexer": "ipython3",
   "version": "3.8.6"
  }
 },
 "nbformat": 4,
 "nbformat_minor": 4
}
