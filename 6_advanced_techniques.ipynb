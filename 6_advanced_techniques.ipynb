{
 "cells": [
  {
   "cell_type": "code",
   "execution_count": 1,
   "metadata": {},
   "outputs": [],
   "source": [
    "import numpy as np\n",
    "import matplotlib.pyplot as plt\n",
    "import seaborn as sns\n",
    "\n",
    "from dataclasses import dataclass\n",
    "from functools import partial, reduce\n",
    "from itertools import product\n",
    "\n",
    "from polling_simulator import Demographic, Variable, generate_electorate, run_elections, run_polls\n",
    "from polling_simulator.aggregation import naive_aggregation, stratified_aggregation, weight_by_self_reported_turnout\n",
    "from polling_simulator.core import Segmentation\n",
    "from polling_simulator.distributions import truncated_gaussian_distribution\n",
    "from polling_simulator.sampling import predefined_sample, guaranteed_sample\n",
    "\n",
    "original_palette = sns.color_palette()\n",
    "modified_palette = [original_palette[0], original_palette[3]]\n",
    "sns.set_palette(modified_palette)"
   ]
  },
  {
   "cell_type": "markdown",
   "metadata": {},
   "source": [
    "Starting back with the example from the previous notebook."
   ]
  },
  {
   "cell_type": "code",
   "execution_count": 24,
   "metadata": {},
   "outputs": [],
   "source": [
    "age = Variable(\"age\", truncated_gaussian_distribution(18, 35, 18, 110))\n",
    "education = Variable(\"education\", partial(\n",
    "    np.random.choice, np.array([\"High School\", \"College\", \"Post-College\"]), replace=True, p=np.array([0.4, 0.4, 0.2])\n",
    "))"
   ]
  },
  {
   "cell_type": "code",
   "execution_count": 25,
   "metadata": {},
   "outputs": [],
   "source": [
    "@dataclass\n",
    "class Parameterization:\n",
    "    segment: Segmentation\n",
    "    republican_modifier: float\n",
    "    turnout_modifier: float = 1\n",
    "    response_modifier: float = 1\n",
    "\n",
    "age_parameterization = [\n",
    "    Parameterization(age < 30, 0.5),\n",
    "    Parameterization((age >= 30) & (age < 50), 0.9),\n",
    "    Parameterization((age >= 50) & (age < 65), 1.2),\n",
    "    Parameterization(age >= 65, 1.5)\n",
    "]\n",
    "education_parameterization = [\n",
    "    Parameterization(education == \"High School\", 1.5, response_modifier=0.2),\n",
    "    Parameterization(education == \"College\", 1),\n",
    "    Parameterization(education == \"Post-College\", 0.5)\n",
    "]\n",
    "def generate_demographics(\n",
    "    default_turnout_likelihood, default_response_likelihood, default_republican_likelihood, *parameterizations\n",
    "):\n",
    "    demographics = []\n",
    "    for param_combo in product(*parameterizations):\n",
    "        turnout_likelihood = default_turnout_likelihood * reduce(\n",
    "            lambda x, y: x * y,\n",
    "            [param.turnout_modifier for param in param_combo]\n",
    "        )\n",
    "        response_likelihood = default_response_likelihood * reduce(\n",
    "            lambda x, y: x * y,\n",
    "            [param.response_modifier for param in param_combo]\n",
    "        )\n",
    "        republican_likelihood = default_republican_likelihood * reduce(\n",
    "            lambda x, y: x * y,\n",
    "            [param.republican_modifier for param in param_combo]\n",
    "        )\n",
    "        turnout_likelihood = 1 if turnout_likelihood > 1 else turnout_likelihood\n",
    "        response_likelihood = 1 if response_likelihood > 1 else response_likelihood\n",
    "        republican_likelihood = 1 if republican_likelihood > 1 else republican_likelihood\n",
    "        democrat_likelihood = 1 - republican_likelihood\n",
    "        demographics.append(\n",
    "            Demographic(\n",
    "                turnout_likelihood=turnout_likelihood,\n",
    "                response_likelihood=response_likelihood,\n",
    "                candidate_preference={\"Republican\": republican_likelihood, \"Democrat\": democrat_likelihood},\n",
    "                population_segmentation=reduce(lambda x, y: x & y, [param.segment for param in param_combo])\n",
    "            )\n",
    "        )\n",
    "    return demographics\n",
    "    \n",
    "actual_demographics = generate_demographics(\n",
    "    0.5, 0.5, 0.5,\n",
    "    age_parameterization, education_parameterization\n",
    ")\n",
    "assumed_demographics = generate_demographics(\n",
    "    0.5, 0.5, 0.5,\n",
    "    age_parameterization\n",
    ")"
   ]
  },
  {
   "cell_type": "code",
   "execution_count": 4,
   "metadata": {},
   "outputs": [
    {
     "name": "stdout",
     "output_type": "stream",
     "text": [
      "Actual Demographics:\n",
      "                                                Segmentation | Turnout | Response |  Dem |  Rep\n",
      "                     (age < 30) & (education == High School) |    0.50 |     0.10 | 0.62 | 0.38\n",
      "                         (age < 30) & (education == College) |    0.50 |     0.50 | 0.75 | 0.25\n",
      "                    (age < 30) & (education == Post-College) |    0.50 |     0.50 | 0.88 | 0.12\n",
      "     ((age >= 30) & (age < 50)) & (education == High School) |    0.50 |     0.10 | 0.32 | 0.68\n",
      "         ((age >= 30) & (age < 50)) & (education == College) |    0.50 |     0.50 | 0.55 | 0.45\n",
      "    ((age >= 30) & (age < 50)) & (education == Post-College) |    0.50 |     0.50 | 0.78 | 0.23\n",
      "     ((age >= 50) & (age < 65)) & (education == High School) |    0.50 |     0.10 | 0.10 | 0.90\n",
      "         ((age >= 50) & (age < 65)) & (education == College) |    0.50 |     0.50 | 0.40 | 0.60\n",
      "    ((age >= 50) & (age < 65)) & (education == Post-College) |    0.50 |     0.50 | 0.70 | 0.30\n",
      "                    (age >= 65) & (education == High School) |    0.50 |     0.10 | 0.00 | 1.00\n",
      "                        (age >= 65) & (education == College) |    0.50 |     0.50 | 0.25 | 0.75\n",
      "                   (age >= 65) & (education == Post-College) |    0.50 |     0.50 | 0.62 | 0.38\n",
      "\n",
      "Assumed Demographics\n",
      "                                                Segmentation | Turnout | Response |  Dem |  Rep\n",
      "                                                    age < 30 |    0.50 |     0.50 | 0.75 | 0.25\n",
      "                                    (age >= 30) & (age < 50) |    0.50 |     0.50 | 0.55 | 0.45\n",
      "                                    (age >= 50) & (age < 65) |    0.50 |     0.50 | 0.40 | 0.60\n",
      "                                                   age >= 65 |    0.50 |     0.50 | 0.25 | 0.75\n"
     ]
    }
   ],
   "source": [
    "def print_demographics(demographics):\n",
    "    print(f\"{'Segmentation':>60} | Turnout | Response |  Democrat |  Republican\")\n",
    "    for demographic in demographics:\n",
    "        segmentation_string = str(demographic.population_segmentation)\n",
    "        republican_likelihood = demographic.candidate_preference[\"Democrat\"]\n",
    "        democrat_likelihood = demographic.candidate_preference[\"Republican\"]\n",
    "        print(\n",
    "            f\"{segmentation_string:>60} | \"\n",
    "            f\"{demographic.turnout_likelihood:7.2f} | \"\n",
    "            f\"{demographic.response_likelihood:8.2f} | \"\n",
    "            f\"{republican_likelihood:9.0%} | \"\n",
    "            f\"{democrat_likelihood:11.0%}\"\n",
    "        )\n",
    "print(\"Actual Demographics:\")\n",
    "print_demographics(actual_demographics)\n",
    "print()\n",
    "print(\"Assumed Demographics\")\n",
    "print_demographics(assumed_demographics)"
   ]
  },
  {
   "cell_type": "code",
   "execution_count": 5,
   "metadata": {},
   "outputs": [],
   "source": [
    "np.random.seed(123)\n",
    "electorate = generate_electorate(1000000, actual_demographics)"
   ]
  },
  {
   "cell_type": "code",
   "execution_count": 6,
   "metadata": {},
   "outputs": [
    {
     "data": {
      "text/plain": [
       "([0.108176,\n",
       "  0.108268,\n",
       "  0.054245,\n",
       "  0.149802,\n",
       "  0.149472,\n",
       "  0.075049,\n",
       "  0.073027,\n",
       "  0.07374,\n",
       "  0.036226,\n",
       "  0.068659,\n",
       "  0.06878,\n",
       "  0.034556],\n",
       " [0.270689, 0.374323, 0.182993, 0.171995])"
      ]
     },
     "execution_count": 6,
     "metadata": {},
     "output_type": "execute_result"
    }
   ],
   "source": [
    "actual_demographic_fractions = [\n",
    "    demographic.population_segmentation.segment(electorate).sum() / len(electorate)\n",
    "    for demographic in actual_demographics\n",
    "]\n",
    "assumed_demographic_fractions = [\n",
    "    demographic.population_segmentation.segment(electorate).sum() / len(electorate)\n",
    "    for demographic in assumed_demographics\n",
    "]\n",
    "actual_demographic_fractions, assumed_demographic_fractions"
   ]
  },
  {
   "cell_type": "code",
   "execution_count": 7,
   "metadata": {},
   "outputs": [],
   "source": [
    "simulated_elections = run_elections(500, electorate)\n",
    "simulated_elections[\"total_votes\"] = simulated_elections.sum(axis=1)\n",
    "simulated_elections[\"dem_voteshare\"] = simulated_elections[\"Dem\"] / simulated_elections[\"total_votes\"]\n",
    "simulated_elections[\"rep_voteshare\"] = simulated_elections[\"Rep\"] / simulated_elections[\"total_votes\"]"
   ]
  },
  {
   "cell_type": "code",
   "execution_count": 8,
   "metadata": {},
   "outputs": [
    {
     "data": {
      "text/plain": [
       "(0.4, 0.6)"
      ]
     },
     "execution_count": 8,
     "metadata": {},
     "output_type": "execute_result"
    },
    {
     "data": {
      "image/png": "[encoded data removed]",
      "text/plain": [
       "<Figure size 864x432 with 1 Axes>"
      ]
     },
     "metadata": {
      "needs_background": "light"
     },
     "output_type": "display_data"
    }
   ],
   "source": [
    "fig, ax = plt.subplots(figsize=(12, 6))\n",
    "sns.histplot(\n",
    "    simulated_elections[[\"dem_voteshare\", \"rep_voteshare\"]], element=\"step\", bins=100, ax=ax, alpha=0.75\n",
    ")\n",
    "ax.set_xlabel(\"Vote Share\")\n",
    "ax.set_ylabel(\"Number of Simulations\")\n",
    "ax.set_xlim([0.4, 0.6])"
   ]
  },
  {
   "cell_type": "code",
   "execution_count": 10,
   "metadata": {},
   "outputs": [],
   "source": [
    "shuffled_electorate = electorate.sample(frac=1).reset_index(drop=True)\n",
    "poll_responders, poll_nonresponders = guaranteed_sample(max_num_attempts=5, screen_likely_voters=False)(\n",
    "    1000, shuffled_electorate\n",
    ")"
   ]
  },
  {
   "cell_type": "code",
   "execution_count": 15,
   "metadata": {},
   "outputs": [
    {
     "data": {
      "text/html": [
       "<div>\n",
       "<style scoped>\n",
       "    .dataframe tbody tr th:only-of-type {\n",
       "        vertical-align: middle;\n",
       "    }\n",
       "\n",
       "    .dataframe tbody tr th {\n",
       "        vertical-align: top;\n",
       "    }\n",
       "\n",
       "    .dataframe thead th {\n",
       "        text-align: right;\n",
       "    }\n",
       "</style>\n",
       "<table border=\"1\" class=\"dataframe\">\n",
       "  <thead>\n",
       "    <tr style=\"text-align: right;\">\n",
       "      <th></th>\n",
       "      <th>age</th>\n",
       "      <th>education</th>\n",
       "      <th>turnout_likelihood</th>\n",
       "      <th>response_likelihood</th>\n",
       "      <th>candidate_preference</th>\n",
       "      <th>num_contact_attempts</th>\n",
       "    </tr>\n",
       "  </thead>\n",
       "  <tbody>\n",
       "    <tr>\n",
       "      <th>0</th>\n",
       "      <td>23.557849</td>\n",
       "      <td>Post-College</td>\n",
       "      <td>0.5</td>\n",
       "      <td>0.5</td>\n",
       "      <td>Dem</td>\n",
       "      <td>2</td>\n",
       "    </tr>\n",
       "    <tr>\n",
       "      <th>1</th>\n",
       "      <td>34.543285</td>\n",
       "      <td>High School</td>\n",
       "      <td>0.5</td>\n",
       "      <td>0.1</td>\n",
       "      <td>Dem</td>\n",
       "      <td>1</td>\n",
       "    </tr>\n",
       "    <tr>\n",
       "      <th>2</th>\n",
       "      <td>98.310570</td>\n",
       "      <td>Post-College</td>\n",
       "      <td>0.5</td>\n",
       "      <td>0.5</td>\n",
       "      <td>Rep</td>\n",
       "      <td>2</td>\n",
       "    </tr>\n",
       "    <tr>\n",
       "      <th>3</th>\n",
       "      <td>18.072512</td>\n",
       "      <td>High School</td>\n",
       "      <td>0.5</td>\n",
       "      <td>0.1</td>\n",
       "      <td>Dem</td>\n",
       "      <td>4</td>\n",
       "    </tr>\n",
       "    <tr>\n",
       "      <th>4</th>\n",
       "      <td>30.493816</td>\n",
       "      <td>High School</td>\n",
       "      <td>0.5</td>\n",
       "      <td>0.1</td>\n",
       "      <td>Rep</td>\n",
       "      <td>5</td>\n",
       "    </tr>\n",
       "  </tbody>\n",
       "</table>\n",
       "</div>"
      ],
      "text/plain": [
       "         age     education  turnout_likelihood  response_likelihood  \\\n",
       "0  23.557849  Post-College                 0.5                  0.5   \n",
       "1  34.543285   High School                 0.5                  0.1   \n",
       "2  98.310570  Post-College                 0.5                  0.5   \n",
       "3  18.072512   High School                 0.5                  0.1   \n",
       "4  30.493816   High School                 0.5                  0.1   \n",
       "\n",
       "  candidate_preference  num_contact_attempts  \n",
       "0                  Dem                     2  \n",
       "1                  Dem                     1  \n",
       "2                  Rep                     2  \n",
       "3                  Dem                     4  \n",
       "4                  Rep                     5  "
      ]
     },
     "execution_count": 15,
     "metadata": {},
     "output_type": "execute_result"
    }
   ],
   "source": [
    "poll_responders.head()"
   ]
  },
  {
   "cell_type": "code",
   "execution_count": 22,
   "metadata": {},
   "outputs": [],
   "source": [
    "responses_by_attempts = poll_responders.groupby(\n",
    "    [\"candidate_preference\", \"num_contact_attempts\"], as_index=False\n",
    ").size()"
   ]
  },
  {
   "cell_type": "code",
   "execution_count": 23,
   "metadata": {},
   "outputs": [
    {
     "data": {
      "text/plain": [
       "<AxesSubplot:xlabel='num_contact_attempts', ylabel='size'>"
      ]
     },
     "execution_count": 23,
     "metadata": {},
     "output_type": "execute_result"
    },
    {
     "data": {
      "image/png": "[encoded data removed]",
      "text/plain": [
       "<Figure size 864x432 with 1 Axes>"
      ]
     },
     "metadata": {
      "needs_background": "light"
     },
     "output_type": "display_data"
    }
   ],
   "source": [
    "fig, ax = plt.subplots(figsize=(12, 6))\n",
    "sns.barplot(data=responses_by_attempts, x=\"num_contact_attempts\", y=\"size\", hue=\"candidate_preference\", ax=ax, alpha=0.75)"
   ]
  },
  {
   "cell_type": "code",
   "execution_count": null,
   "metadata": {},
   "outputs": [],
   "source": []
  }
 ],
 "metadata": {
  "kernelspec": {
   "display_name": "Python 3",
   "language": "python",
   "name": "python3"
  },
  "language_info": {
   "codemirror_mode": {
    "name": "ipython",
    "version": 3
   },
   "file_extension": ".py",
   "mimetype": "text/x-python",
   "name": "python",
   "nbconvert_exporter": "python",
   "pygments_lexer": "ipython3",
   "version": "3.8.6"
  }
 },
 "nbformat": 4,
 "nbformat_minor": 4
}
