{
 "cells": [
  {
   "cell_type": "code",
   "execution_count": 1,
   "metadata": {},
   "outputs": [],
   "source": [
    "import numpy as np\n",
    "import matplotlib.pyplot as plt\n",
    "import seaborn as sns\n",
    "\n",
    "from polling_simulator import Demographic, Variable, generate_electorate, run_elections, run_polls\n",
    "from polling_simulator.aggregation import naive_aggregation\n",
    "from polling_simulator.sampling import predefined_sample\n",
    "\n",
    "sns_palette = sns.color_palette()[::3] # makes first color blue, second color red\n",
    "sns.set_palette(sns_palette)"
   ]
  },
  {
   "cell_type": "markdown",
   "metadata": {},
   "source": [
    "Let's set up a dummy electorate, with a single demographic that includes everyone, and has 1 million eligible voters and a very narrow preference for the Democrat:"
   ]
  },
  {
   "cell_type": "code",
   "execution_count": 2,
   "metadata": {},
   "outputs": [],
   "source": [
    "\n",
    "everyone = Variable(\"everyone\", lambda x: np.ones(x).astype(bool))\n",
    "\n",
    "demographics = [\n",
    "    Demographic(\n",
    "        turnout_likelihood=0.7,\n",
    "        response_likelihood=1.0,\n",
    "        candidate_preference={\"Democrat\": 0.502, \"Republican\": 0.498},\n",
    "        population_segmentation = (everyone == True)\n",
    "    )\n",
    "]\n",
    "np.random.seed(123)\n",
    "electorate = generate_electorate(1000000, demographics)"
   ]
  },
  {
   "cell_type": "code",
   "execution_count": 3,
   "metadata": {},
   "outputs": [],
   "source": [
    "simulated_elections = run_elections(500, electorate)\n",
    "simulated_elections[\"total_votes\"] = simulated_elections.sum(axis=1)\n",
    "simulated_elections[\"Democrat\"] = simulated_elections[\"Democrat\"] / simulated_elections[\"total_votes\"]\n",
    "simulated_elections[\"Republican\"] = simulated_elections[\"Republican\"] / simulated_elections[\"total_votes\"]"
   ]
  },
  {
   "cell_type": "code",
   "execution_count": 4,
   "metadata": {},
   "outputs": [
    {
     "data": {
      "text/plain": [
       "(0.0, 1.0)"
      ]
     },
     "execution_count": 4,
     "metadata": {},
     "output_type": "execute_result"
    },
    {
     "data": {
      "image/png": "[encoded data removed]",
      "text/plain": [
       "<Figure size 864x432 with 1 Axes>"
      ]
     },
     "metadata": {
      "needs_background": "light"
     },
     "output_type": "display_data"
    }
   ],
   "source": [
    "fig, ax = plt.subplots(figsize=(12, 6))\n",
    "sns.histplot(\n",
    "    simulated_elections[[\"Democrat\", \"Republican\"]], element=\"step\", bins=100, ax=ax, alpha=0.75\n",
    ")\n",
    "ax.set_xlabel(\"Vote-Share\")\n",
    "ax.set_ylabel(\"Number of Simulations\")\n",
    "ax.set_xlim([0, 1])"
   ]
  },
  {
   "cell_type": "code",
   "execution_count": 5,
   "metadata": {},
   "outputs": [
    {
     "data": {
      "text/plain": [
       "Text(0, 0.5, 'Number of Simulations')"
      ]
     },
     "execution_count": 5,
     "metadata": {},
     "output_type": "execute_result"
    },
    {
     "data": {
      "image/png": "[encoded data removed]",
      "text/plain": [
       "<Figure size 864x432 with 1 Axes>"
      ]
     },
     "metadata": {
      "needs_background": "light"
     },
     "output_type": "display_data"
    }
   ],
   "source": [
    "fig, ax = plt.subplots(figsize=(12, 6))\n",
    "sns.histplot(\n",
    "    simulated_elections[[\"Democrat\", \"Republican\"]], element=\"step\", bins=100, ax=ax, alpha=0.75\n",
    ")\n",
    "ax.set_xlabel(\"Vote-Share\")\n",
    "ax.set_ylabel(\"Number of Simulations\")"
   ]
  },
  {
   "cell_type": "code",
   "execution_count": 6,
   "metadata": {},
   "outputs": [
    {
     "data": {
      "text/html": [
       "<div>\n",
       "<style scoped>\n",
       "    .dataframe tbody tr th:only-of-type {\n",
       "        vertical-align: middle;\n",
       "    }\n",
       "\n",
       "    .dataframe tbody tr th {\n",
       "        vertical-align: top;\n",
       "    }\n",
       "\n",
       "    .dataframe thead th {\n",
       "        text-align: right;\n",
       "    }\n",
       "</style>\n",
       "<table border=\"1\" class=\"dataframe\">\n",
       "  <thead>\n",
       "    <tr style=\"text-align: right;\">\n",
       "      <th>candidate_preference</th>\n",
       "      <th>Republican</th>\n",
       "      <th>Democrat</th>\n",
       "    </tr>\n",
       "  </thead>\n",
       "  <tbody>\n",
       "    <tr>\n",
       "      <th>0</th>\n",
       "      <td>0.493</td>\n",
       "      <td>0.507</td>\n",
       "    </tr>\n",
       "    <tr>\n",
       "      <th>1</th>\n",
       "      <td>0.467</td>\n",
       "      <td>0.533</td>\n",
       "    </tr>\n",
       "    <tr>\n",
       "      <th>2</th>\n",
       "      <td>0.506</td>\n",
       "      <td>0.494</td>\n",
       "    </tr>\n",
       "    <tr>\n",
       "      <th>3</th>\n",
       "      <td>0.527</td>\n",
       "      <td>0.473</td>\n",
       "    </tr>\n",
       "    <tr>\n",
       "      <th>4</th>\n",
       "      <td>0.511</td>\n",
       "      <td>0.489</td>\n",
       "    </tr>\n",
       "  </tbody>\n",
       "</table>\n",
       "</div>"
      ],
      "text/plain": [
       "candidate_preference  Republican  Democrat\n",
       "0                          0.493     0.507\n",
       "1                          0.467     0.533\n",
       "2                          0.506     0.494\n",
       "3                          0.527     0.473\n",
       "4                          0.511     0.489"
      ]
     },
     "execution_count": 6,
     "metadata": {},
     "output_type": "execute_result"
    }
   ],
   "source": [
    "np.random.seed(11)\n",
    "single_poll_results = run_polls(\n",
    "    num_polls=5,\n",
    "    num_to_poll=1000,\n",
    "    electorate=electorate,\n",
    "    sampling_strategy=predefined_sample(max_num_attempts=1, screen_likely_voters=False),\n",
    "    aggregation_strategy=naive_aggregation()\n",
    ")\n",
    "\n",
    "single_poll_results"
   ]
  },
  {
   "cell_type": "code",
   "execution_count": 7,
   "metadata": {},
   "outputs": [],
   "source": [
    "# This cell may take a few minutes\n",
    "poll_results = run_polls(\n",
    "    num_polls=500,\n",
    "    num_to_poll=1000,\n",
    "    electorate=electorate,\n",
    "    sampling_strategy=predefined_sample(max_num_attempts=1, screen_likely_voters=False),\n",
    "    aggregation_strategy=naive_aggregation()\n",
    ")\n",
    "poll_results.columns = [\n",
    "    \"Candidate Preference\" if column == \"candidate_preference\" else column\n",
    "    for column in poll_results.columns\n",
    "]"
   ]
  },
  {
   "cell_type": "code",
   "execution_count": 8,
   "metadata": {},
   "outputs": [
    {
     "data": {
      "text/plain": [
       "Text(0, 0.5, 'Number of Simulations')"
      ]
     },
     "execution_count": 8,
     "metadata": {},
     "output_type": "execute_result"
    },
    {
     "data": {
      "image/png": "[encoded data removed]",
      "text/plain": [
       "<Figure size 864x432 with 1 Axes>"
      ]
     },
     "metadata": {
      "needs_background": "light"
     },
     "output_type": "display_data"
    }
   ],
   "source": [
    "fig, ax = plt.subplots(figsize=(12, 6))\n",
    "sns.histplot(\n",
    "    poll_results[[\"Democrat\", \"Republican\"]], element=\"step\", bins=50, ax=ax, alpha=0.75\n",
    ")\n",
    "ax.set_xlabel(\"Vote-Share\")\n",
    "ax.set_ylabel(\"Number of Simulations\")"
   ]
  },
  {
   "cell_type": "code",
   "execution_count": null,
   "metadata": {},
   "outputs": [],
   "source": []
  }
 ],
 "metadata": {
  "kernelspec": {
   "display_name": "Python 3",
   "language": "python",
   "name": "python3"
  },
  "language_info": {
   "codemirror_mode": {
    "name": "ipython",
    "version": 3
   },
   "file_extension": ".py",
   "mimetype": "text/x-python",
   "name": "python",
   "nbconvert_exporter": "python",
   "pygments_lexer": "ipython3",
   "version": "3.8.6"
  }
 },
 "nbformat": 4,
 "nbformat_minor": 4
}
